{
 "cells": [
  {
   "cell_type": "code",
   "execution_count": null,
   "id": "1e5ec04b-ff86-42f6-b0e9-95e264b09637",
   "metadata": {},
   "outputs": [],
   "source": [
    "Q1. What is Flask Framework? What are the advantages of Flask Framework?"
   ]
  },
  {
   "cell_type": "code",
   "execution_count": null,
   "id": "f82b0dc9-6b0c-456c-b661-b5b8150fcd94",
   "metadata": {},
   "outputs": [],
   "source": [
    " Flask provides the tools and libraries needed to create web applications, but it doesn't impose a rigid structure or dictate the entire development \n",
    "    process. This flexibility makes it suitable for a wide range of projects, from small personal websites to larger, more complex applications.\n",
    "\n",
    "Advantages of Flask Framework:\n",
    "1) Lightweight and Simple: Flask is known for its simplicity and minimalism. It provides just the essentials for building web applications, which \n",
    "makes it easy to learn and work with, especially for beginners.\n",
    "\n",
    "2) Flexibility: Flask doesn't enforce a particular architecture or development pattern. This allows developers to choose how they want to structure \n",
    "their application and use various third-party libraries for specific functionalities.\n",
    "\n",
    "3) Extensibility: Flask provides a wide range of extensions that can be easily integrated into your application. These extensions cover areas such as \n",
    "authentication, database integration, form handling, and more.\n",
    "\n",
    "4) Built-in Development Server: Flask comes with a built-in development server, which makes it convenient to test your application during development \n",
    "without needing to set up a separate server.\n",
    "\n",
    "5) URL Routing: Flask provides a simple way to define URL routes, allowing you to map URLs to specific functions or views.\n",
    "\n",
    "6) Web Development Made Easy: With Flask, you can quickly get a basic web application up and running. This is particularly useful for prototyping, \n",
    "creating small projects, or learning web development."
   ]
  },
  {
   "cell_type": "code",
   "execution_count": null,
   "id": "f969cc21-73c7-4786-a63b-9c56b212b278",
   "metadata": {},
   "outputs": [],
   "source": [
    "Q.2> Create a simple Flask application to display ‘Hello World!!’. Attach the screenshot of the output in\n",
    "Jupyter Notebook."
   ]
  },
  {
   "cell_type": "code",
   "execution_count": null,
   "id": "89b9b5c4-6ad4-442c-b278-8574a294033f",
   "metadata": {},
   "outputs": [],
   "source": [
    "from flask import Flask\n",
    "\n",
    "app= Flask(__name__)\n",
    "@app.route(\"/\")\n",
    "def test():\n",
    "    return \"<h1> Hello World! <h1>\"\n",
    "\n",
    "if __name__ == \"__main__\":\n",
    "    app.run(host=\"0.0.0.0\")\n",
    "    \n",
    "#after this copy the url upto-----app + \":\" + \"5000\"\n",
    "#pest this url in search bar "
   ]
  },
  {
   "cell_type": "code",
   "execution_count": null,
   "id": "7fd27d09-35d0-484e-a606-863e4801f0b5",
   "metadata": {},
   "outputs": [],
   "source": [
    "Q3. What is App routing in Flask? Why do we use app routes?"
   ]
  },
  {
   "cell_type": "code",
   "execution_count": null,
   "id": "3a9ca744-cd19-4ec7-889b-6b1ce617b064",
   "metadata": {},
   "outputs": [],
   "source": [
    "In Flask, app routing refers to the process of mapping URLs (Uniform Resource Locators) to specific functions or views in your web application. \n",
    "When a user accesses a certain URL in their browser, the Flask application uses the routing configuration to determine which function should handle \n",
    "the request and generate the appropriate response.\n",
    "\n",
    "Why do we use app routes?\n",
    "\n",
    "!1) URL Mapping: App routes allow you to map different URLs to specific functions or views in your Flask application. This helps in organizing your\n",
    "application's logic and handling various user requests.\n",
    "\n",
    "2) Modularization: By using app routes, you can modularize your codebase. Different routes can be defined in different functions, making your code \n",
    "more organized and easier to maintain.\n",
    "\n",
    "3) RESTful APIs: For building RESTful APIs, app routes are crucial. Each route can correspond to a specific API endpoint, making it easy to create \n",
    "APIs that handle different HTTP methods (GET, POST, PUT, DELETE) and return appropriate responses.\n",
    "\n",
    "4) Dynamic Content: App routes can include dynamic elements in the URL, which are then passed as arguments to the associated function. This allows\n",
    "you to create dynamic content and respond differently based on the URL parameters.\n",
    "\n",
    "5) Separation of Concerns: App routes help in adhering to the principle of separation of concerns. Each route's function can focus on handling a \n",
    "specific task or generating a specific page, keeping your codebase organized and maintainable.\n",
    "\n",
    "6) Code Readability: Using app routes with descriptive names can make your code more readable and self-explanatory, improving collaboration among\n",
    "developers.\n",
    "\n",
    "7) Scalability: As your application grows, you can continue adding more app routes to handle different parts of your application without disrupting \n",
    "existing functionality.\n",
    "\n",
    "8) Testing: App routes make it easier to test different parts of your application in isolation, as you can target specific routes with different input\n",
    "data."
   ]
  },
  {
   "cell_type": "code",
   "execution_count": null,
   "id": "e6089971-d069-4732-ac29-c5ce3ba22d35",
   "metadata": {},
   "outputs": [],
   "source": [
    "Q4. Create a “/welcome” route to display the welcome message “Welcome to ABC Corporation” and a “/”\n",
    "route to show the following details:\n",
    "Company Name: ABC Corporation\n",
    "Location: India\n",
    "Contact Detail: 999-999-9999"
   ]
  },
  {
   "cell_type": "code",
   "execution_count": null,
   "id": "ffbd393d-eba9-4140-8200-accd8bf725d3",
   "metadata": {},
   "outputs": [],
   "source": [
    "from flask import Flask\n",
    "\n",
    "app= Flask(__name__)\n",
    "@app.route(\"/welcome\")\n",
    "def welcomw():\n",
    "    return \"<h1> Welcome to ABC Corporation <h1>\"\n",
    "\n",
    "@app.route(\"/\")\n",
    "def detail():\n",
    "    return \"<li>Company Name: ABC Corporation<li><li>Location: India<li><li>Contact Detail: 999-999-9999<li>\"\n",
    "\n",
    "if __name__ == \"__main__\":\n",
    "    app.run(host=\"0.0.0.0\")\n",
    "    "
   ]
  },
  {
   "cell_type": "code",
   "execution_count": null,
   "id": "c9fa0971-bcda-49e7-a3d4-0884ac8e1207",
   "metadata": {},
   "outputs": [],
   "source": [
    "Q5In Flask, the url_for() function is used to build URLs for routes defined in your application. This function takes the name of the view function \n",
    "(or endpoint) as its first argument and can accept additional arguments to generate URLs with variable parts."
   ]
  }
 ],
 "metadata": {
  "kernelspec": {
   "display_name": "Python 3 (ipykernel)",
   "language": "python",
   "name": "python3"
  },
  "language_info": {
   "codemirror_mode": {
    "name": "ipython",
    "version": 3
   },
   "file_extension": ".py",
   "mimetype": "text/x-python",
   "name": "python",
   "nbconvert_exporter": "python",
   "pygments_lexer": "ipython3",
   "version": "3.10.8"
  }
 },
 "nbformat": 4,
 "nbformat_minor": 5
}
